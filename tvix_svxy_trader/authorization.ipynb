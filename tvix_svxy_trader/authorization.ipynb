{
 "cells": [
  {
   "cell_type": "code",
   "execution_count": 1,
   "metadata": {},
   "outputs": [],
   "source": [
    "import time\n",
    "import urllib\n",
    "import requests\n",
    "import json\n",
    "from splinter import Browser\n",
    "from selenium import webdriver\n",
    "from config import client_id, username, password"
   ]
  },
  {
   "cell_type": "code",
   "execution_count": 2,
   "metadata": {},
   "outputs": [],
   "source": [
    "# path to chrome driver\n",
    "executable_path = {'executable_path': \"/usr/local/bin/chromedriver\"}\n",
    "browser = Browser('chrome', **executable_path, headless=False)"
   ]
  },
  {
   "cell_type": "code",
   "execution_count": 3,
   "metadata": {},
   "outputs": [
    {
     "data": {
      "text/plain": [
       "'Nt7QuZxczVWVGKr0uOzRr+U4Ch3AwiEt0Z3vtIQL1XNjH1ytHSHaaTfLEC0qHtrIDpB33aBdgmqSPr1JRVcNtE5y2Ht5/gfL802VqdTZGdc/Rd3xwjYcOE+hVaFv11XABkqv5Zg9VtOMG7NtWtI1JSXZLfB8G9Qs2lzojVbDRgFIhBN8LL2xRLdHXuvWd1+z9slZQzJ86SLtacP2CZPwT5UjW+0v38fzheLaHULdTxCNIj+Yv7E+OjqoWUSjbWIRGw5Fxdu70zf5wfvMZ/ckz6JtxVE3rfqaRBeOtT73kCog8KAhX1o8SFyd4G96TkpM1UTjkbMsWaERrrg22XySZ0/BzphaEmrCymXT9a1jQ7oG6uvwD2l6Yg2FlBXlw3BUKG0CE+nQCBxb6KkZLT/gO/AsjSQ4TVvQwYkBCSFXT/GYwZETdHxVtAYHTvN100MQuG4LYrgoVi/JHHvlHjKjxvx35Oun5pd755iVorlNKuwSjZKd/3xjRoM+8BCqmkHB7cGfU7r+bhwqM1FTwTm5CSTb9UtdaFLDbG5F0zprB7YC0scPDs/2idRncIosLSJQeNtsU/GcT+O2afDMapb9xIpA4FsXD0QRrb00xVCQGaAztbFzinFQWFpvnT5WAoG4yOOKyPLe/QTuDKKtChr+fYngOFU15CoTFOPDGtnAmgBtkMzwGyIJcvp+RfrVBVDoSr4UnzsH02KY4bIb7O2tfruD5aRP6TXUkPB5qWk13qejB6kihWtmOndom96+aIwTfZIKuUbFPPd3Ikz/+qZX1VtuNMRavvkJYDRe7hk2351jOiI2sL4dDDneZgcCXT3Fg3YXlWkjV4zGNwuuO02zIrgeWjd3SOLHZ6qUIjIg2gX/4exGNRPE8SZijK+euAsR+jev53MB0ZE=212FD3x19z9sWBHDJACbC00B75E'"
      ]
     },
     "execution_count": 3,
     "metadata": {},
     "output_type": "execute_result"
    }
   ],
   "source": [
    "# url components\n",
    "method = 'GET'\n",
    "url = 'https://auth.tdameritrade.com/auth?'\n",
    "client_code = client_id + '@AMER.OAUTHAP'\n",
    "payload = {'response_type': 'code', 'redirect_uri': 'https://127.0.0.1', 'client_id': client_code}\n",
    "\n",
    "# build url\n",
    "built_url = requests.Request(method, url, params=payload).prepare()\n",
    "built_url = built_url.url\n",
    "\n",
    "# go to url\n",
    "browser.visit(built_url)\n",
    "\n",
    "# define login credentials\n",
    "payload = {'username': username, 'password': password}\n",
    "\n",
    "# fill out login\n",
    "browser.find_by_id('username').first.fill(payload['username'])\n",
    "browser.find_by_id('password').first.fill(payload['password'])\n",
    "browser.find_by_id('accept').first.click()\n",
    "\n",
    "# accept terms and conditions\n",
    "browser.find_by_id('accept').first.click()\n",
    "\n",
    "# allow page to load\n",
    "time.sleep(1)\n",
    "new_url = browser.url\n",
    "\n",
    "# grab url and parse\n",
    "parse_url = urllib.parse.unquote(new_url.split('code=')[1])\n",
    "\n",
    "# close browser\n",
    "browser.quit()\n",
    "\n",
    "parse_url"
   ]
  },
  {
   "cell_type": "code",
   "execution_count": 4,
   "metadata": {},
   "outputs": [
    {
     "data": {
      "text/plain": [
       "{'access_token': '8EA2u/iUchV2umYPOnsxiCwAVZcfok6R9r8gH8KznJ+8EHX8T0isAhl2gJvz3qy4+eyJOSj2D/uwTojXaX4tjQk9DrhsayOQxdizyaqOJ1OZgCUUaTy7pF65igiz5YehK+cyaMX4kImBSSH7Z4YC+OjZiAaxU+X8z86KALlfVbSaKlsJ3ViZrih4wtqQf5Wpk/qk0ObN29aBbKRSTFeAoAtC3ErgOf1OqntgE7W+gDFV5x+3X8+xYQw/u4BeUuKxAG6N8mwssO2xkaogtlmUTgZmDyEZrEmI4Ad6Oxsp/d0rQs2myENfHIJ3xb0LE3bZhCMai5F89EKBdTBuyjIEUepvMKcYeZ4P3XCPIrNJJhB/rUS/5HvvLcHu0AIDc8fhbuLzyXz9TBzH2BH6dB2xj9l/BEmLhT2dmr0Wi+InSgFKcqQuf8ZqTTBBeSdUyPPHzv6vNhT2RiFOFmLmCItZhfXp21amTpfxml8wUxpmWDUvTbM/rOXjpA3If4n3P8l+MS7wWlXQz91b4Ipfy100MQuG4LYrgoVi/JHHvlyQn0M69LirNvESg7E3a4cPnMck9qj9kFmuVfo45w8kUyI8GftmfGAk1+Hc6yrBuTx1aXvBam5dzAEwLvAdHKvzxTK82O4GIWDIDQB7D+TQAcxp+82IBxvxhxWdmB4sCI3QW4fHQWOnN0Xksoh7bH5KzVTjVCVekWAo7yRARCH6PxXnlNUAHfTtSP48gEMaCsyi/wYuTvvLnmKjqjS1x3OwcJx9hLsvlxyFnRnIXBd4oHo1KBs6tfJB0kKHwFHWWF5AvpJkhWuQygeyP5MmQYDqx8qnEm4053LhmNYf3ATGxn+kiBj7mlcsenvVRgWRmojBBtDc+krmZDdEN9Ch7UmBwPsBEb40u7oJRUhu3t89cWklyVXunwee+ox4aCeXQ8IRpCI+FaRQHFB+6KA79h+J4ZkDjte9l+koPyWSxEtnDee+H3Gs+SSOX8W7heSCBcQ2Ue7Va8HM+OiUbnKGit22ZToNnEW1BzeiBrXCdTzAVQ52r64kN8R6+acFMTugsNw/Yfz8uzfsKOIP/A==212FD3x19z9sWBHDJACbC00B75E',\n",
       " 'refresh_token': 'uUpKuMeJ3S95eggwuUE6bn8nTLVZr8P7A8QkpO/VTfAsseieU2rqwcRppMPHS7xcCbpGT3OPxvAgM9XHkksQtc44wSK1pMyCruf0p/Tn5HapUcAskYoQbtmm9nz98OskR7hjVgKW5OfLOmNkcDaqSQqdhn9f6MmP0fUU6AncFxqIJb7bbX9gZYgxBCdsa5vnZCW1cIctrNX7ohkp1opK0MCAbn8EXOw+8OfpacVoYu4EXXqK4Z04XS2xP4e6fUGFxBegZvvKLUBn+2XrniMWGHLLOLmbcG59fdyTDfFJx4R5Wrcl3qwBDI2QLnWLwhAWmw7/gms4Sa7vSg/CNe7F1ER/y8Oea7vXHDxOPZzGQF0iheCJJTDujT+kqTtVnIDZlfxu6rgCAqKv+91eA43KqWkLCpoIwADd89vj96E8zxh7/XAPN8BoAd/dgEU100MQuG4LYrgoVi/JHHvllhTKSk6jCF/pUAKwpXVdl5q/SgNsvrpKUKhXZQ9YZjmL61uqum16E4CyL7MgB5CG1QREVcWgOd2jNjknGf7FLHW3RRzj99A9/hl8zpj9ViUQmmL1m2EidmSRMRSVy70cS/U1+8c6cYSGCk4YulnANxNAdI2MZYa8fp79WlQaBz7+5SlGWqJ0uGHHEDjF2/nIrEqCnErb1R22zxD/eTzMCF/kk5fSQTL671JrYuiFKuV1SI5yQ+Vhtk7heBvL5d23jBrbMtN4Ob+HmU3I4sp15qwUkj6fdulLWgBSQGx3MBXkcjw01G/8dX/r/HLukxhY/04i4kCQ7jwduik8kdLoCMIwo88O5ILNJnJ38uRt9ifjLcIVZpSIKN4OaJueDZbC7afI3W6WvzE/Q4+noGswyFm+yX31M5WXfCrqYUSNJACDEAvwjLLpz+5J13M=212FD3x19z9sWBHDJACbC00B75E',\n",
       " 'expires_in': 1800,\n",
       " 'refresh_token_expires_in': 7776000,\n",
       " 'token_type': 'Bearer'}"
      ]
     },
     "execution_count": 4,
     "metadata": {},
     "output_type": "execute_result"
    }
   ],
   "source": [
    "# authorization\n",
    "endpoint = 'https://api.tdameritrade.com/v1/oauth2/token'\n",
    "headers = {\"Content-Type\":\"application/x-www-form-urlencoded\"}\n",
    "payload = {'grant_type':'authorization_code',\n",
    "           'access_type': 'offline',\n",
    "           'code': parse_url,\n",
    "           'client_id': client_id,\n",
    "           'redirect_uri': 'https://127.0.0.1'}\n",
    "\n",
    "# post data for token\n",
    "authReply = requests.post(endpoint, headers=headers, data=payload)\n",
    "\n",
    "# convert from json to dict\n",
    "content = authReply.json()\n",
    "content"
   ]
  },
  {
   "cell_type": "code",
   "execution_count": 5,
   "metadata": {},
   "outputs": [],
   "source": [
    "# access token request header\n",
    "access_token = content['access_token']\n",
    "headers = {'Authorization': \"Bearer {}\".format(access_token)}"
   ]
  },
  {
   "cell_type": "code",
   "execution_count": 6,
   "metadata": {},
   "outputs": [
    {
     "data": {
      "text/plain": [
       "[{'securitiesAccount': {'type': 'MARGIN',\n",
       "   'accountId': '489390427',\n",
       "   'roundTrips': 0,\n",
       "   'isDayTrader': False,\n",
       "   'isClosingOnlyRestricted': False,\n",
       "   'initialBalances': {'accruedInterest': 0.07,\n",
       "    'availableFundsNonMarginableTrade': 17999.83,\n",
       "    'bondValue': 0.0,\n",
       "    'buyingPower': 39674.56,\n",
       "    'cashBalance': 0.0,\n",
       "    'cashAvailableForTrading': 0.0,\n",
       "    'cashReceipts': 0.0,\n",
       "    'dayTradingBuyingPower': 0.0,\n",
       "    'dayTradingBuyingPowerCall': 0.0,\n",
       "    'dayTradingEquityCall': 0.0,\n",
       "    'equity': 26463.83,\n",
       "    'equityPercentage': 100.0,\n",
       "    'liquidationValue': 26463.83,\n",
       "    'longMarginValue': 20888.4,\n",
       "    'longOptionMarketValue': 0.0,\n",
       "    'longStockValue': 20888.4,\n",
       "    'maintenanceCall': 0.0,\n",
       "    'maintenanceRequirement': 8464.0,\n",
       "    'margin': 0.0,\n",
       "    'marginEquity': 20888.4,\n",
       "    'moneyMarketFund': 5575.43,\n",
       "    'mutualFundValue': 0.0,\n",
       "    'regTCall': 0.0,\n",
       "    'shortMarginValue': 0.0,\n",
       "    'shortOptionMarketValue': 0.0,\n",
       "    'shortStockValue': 0.0,\n",
       "    'totalCash': 0.0,\n",
       "    'isInCall': False,\n",
       "    'pendingDeposits': 0.0,\n",
       "    'marginBalance': 0.0,\n",
       "    'shortBalance': 0.0,\n",
       "    'accountValue': 26463.83},\n",
       "   'currentBalances': {'accruedInterest': 0.07,\n",
       "    'cashBalance': 0.0,\n",
       "    'cashReceipts': 0.0,\n",
       "    'longOptionMarketValue': 0.0,\n",
       "    'liquidationValue': 26473.73,\n",
       "    'longMarketValue': 20898.3,\n",
       "    'moneyMarketFund': 5575.43,\n",
       "    'savings': 0.0,\n",
       "    'shortMarketValue': 0.0,\n",
       "    'pendingDeposits': 0.0,\n",
       "    'availableFunds': 18037.98,\n",
       "    'availableFundsNonMarginableTrade': 18037.98,\n",
       "    'buyingPower': 39674.56,\n",
       "    'buyingPowerNonMarginableTrade': 18037.98,\n",
       "    'dayTradingBuyingPower': 0.0,\n",
       "    'equity': 26473.73,\n",
       "    'equityPercentage': 100.0,\n",
       "    'longMarginValue': 20898.3,\n",
       "    'maintenanceCall': 0.0,\n",
       "    'maintenanceRequirement': 8435.75,\n",
       "    'marginBalance': 0.0,\n",
       "    'regTCall': 0.0,\n",
       "    'shortBalance': 0.0,\n",
       "    'shortMarginValue': 0.0,\n",
       "    'shortOptionMarketValue': 0.0,\n",
       "    'sma': 25412.71,\n",
       "    'bondValue': 0.0},\n",
       "   'projectedBalances': {'availableFunds': 18037.98,\n",
       "    'availableFundsNonMarginableTrade': 18037.98,\n",
       "    'buyingPower': 39674.56,\n",
       "    'dayTradingBuyingPower': 0.0,\n",
       "    'dayTradingBuyingPowerCall': 0.0,\n",
       "    'maintenanceCall': 0.0,\n",
       "    'regTCall': 0.0,\n",
       "    'isInCall': False,\n",
       "    'stockBuyingPower': 39674.56}}}]"
      ]
     },
     "metadata": {},
     "output_type": "display_data"
    }
   ],
   "source": [
    "# accounts endpoint\n",
    "endpoint = 'https://api.tdameritrade.com/v1/accounts'\n",
    "content = requests.get(url = endpoint, headers = headers)\n",
    "data = content.json()\n",
    "display(data)"
   ]
  },
  {
   "cell_type": "code",
   "execution_count": 7,
   "metadata": {},
   "outputs": [
    {
     "data": {
      "text/plain": [
       "'489390427'"
      ]
     },
     "execution_count": 7,
     "metadata": {},
     "output_type": "execute_result"
    }
   ],
   "source": [
    "account_id = data[0]['securitiesAccount']['accountId']\n",
    "account_id"
   ]
  },
  {
   "cell_type": "code",
   "execution_count": null,
   "metadata": {},
   "outputs": [],
   "source": []
  }
 ],
 "metadata": {
  "kernelspec": {
   "display_name": "Python 3",
   "language": "python",
   "name": "python3"
  },
  "language_info": {
   "codemirror_mode": {
    "name": "ipython",
    "version": 3
   },
   "file_extension": ".py",
   "mimetype": "text/x-python",
   "name": "python",
   "nbconvert_exporter": "python",
   "pygments_lexer": "ipython3",
   "version": "3.6.8"
  }
 },
 "nbformat": 4,
 "nbformat_minor": 2
}
